{
 "cells": [
  {
   "cell_type": "code",
   "id": "initial_id",
   "metadata": {
    "collapsed": true,
    "ExecuteTime": {
     "end_time": "2025-10-25T04:20:51.280635Z",
     "start_time": "2025-10-25T04:20:49.962316Z"
    }
   },
   "source": [
    "import pandas as pd\n",
    "import numpy as np\n",
    "from scipy.optimize import curve_fit"
   ],
   "outputs": [],
   "execution_count": 4
  },
  {
   "metadata": {
    "ExecuteTime": {
     "end_time": "2025-10-25T04:03:02.120284Z",
     "start_time": "2025-10-25T04:03:01.961740Z"
    }
   },
   "cell_type": "code",
   "source": [
    "df_results = pd.read_parquet('results/seven-day-ahead_results.parquet')\n",
    "df_results.head()"
   ],
   "id": "a7098d9ba7bc2c2f",
   "outputs": [
    {
     "data": {
      "text/plain": [
       "         date                                       actual_value  \\\n",
       "0  2024-12-24  [[0.04927466634268923, -0.005146421043679282, ...   \n",
       "\n",
       "                                          prediction  \\\n",
       "0  [[0.04332296863023677, -1.6948319141896206e-05...   \n",
       "\n",
       "                                      prediction_std        best_kernel  \\\n",
       "0  [[0.4185319876412105, 0.4185319876412105, 0.41...  RationalQuadratic   \n",
       "\n",
       "   retrain  \n",
       "0     True  "
      ],
      "text/html": [
       "<div>\n",
       "<style scoped>\n",
       "    .dataframe tbody tr th:only-of-type {\n",
       "        vertical-align: middle;\n",
       "    }\n",
       "\n",
       "    .dataframe tbody tr th {\n",
       "        vertical-align: top;\n",
       "    }\n",
       "\n",
       "    .dataframe thead th {\n",
       "        text-align: right;\n",
       "    }\n",
       "</style>\n",
       "<table border=\"1\" class=\"dataframe\">\n",
       "  <thead>\n",
       "    <tr style=\"text-align: right;\">\n",
       "      <th></th>\n",
       "      <th>date</th>\n",
       "      <th>actual_value</th>\n",
       "      <th>prediction</th>\n",
       "      <th>prediction_std</th>\n",
       "      <th>best_kernel</th>\n",
       "      <th>retrain</th>\n",
       "    </tr>\n",
       "  </thead>\n",
       "  <tbody>\n",
       "    <tr>\n",
       "      <th>0</th>\n",
       "      <td>2024-12-24</td>\n",
       "      <td>[[0.04927466634268923, -0.005146421043679282, ...</td>\n",
       "      <td>[[0.04332296863023677, -1.6948319141896206e-05...</td>\n",
       "      <td>[[0.4185319876412105, 0.4185319876412105, 0.41...</td>\n",
       "      <td>RationalQuadratic</td>\n",
       "      <td>True</td>\n",
       "    </tr>\n",
       "  </tbody>\n",
       "</table>\n",
       "</div>"
      ]
     },
     "execution_count": 2,
     "metadata": {},
     "output_type": "execute_result"
    }
   ],
   "execution_count": 2
  },
  {
   "metadata": {
    "ExecuteTime": {
     "end_time": "2025-10-25T04:06:29.911982Z",
     "start_time": "2025-10-25T04:06:29.895076Z"
    }
   },
   "cell_type": "code",
   "source": [
    "df_one = pd.read_parquet('results/one-day-ahead/samples/2016-08-26.parquet')\n",
    "df_one.head()"
   ],
   "id": "3e5ce3300621721f",
   "outputs": [
    {
     "data": {
      "text/plain": [
       "   beta0_future_val  beta1_future_val  beta2_future_val  lambda_future_val\n",
       "0          0.050954          0.032897         -0.032895           0.228149\n",
       "1          0.023140          0.012103         -0.009651           0.274028\n",
       "2          0.057567         -0.025786         -0.038031           0.293598\n",
       "3          0.095909         -0.056735         -0.016810           0.394400\n",
       "4          0.018940          0.002185         -0.086265           0.336093"
      ],
      "text/html": [
       "<div>\n",
       "<style scoped>\n",
       "    .dataframe tbody tr th:only-of-type {\n",
       "        vertical-align: middle;\n",
       "    }\n",
       "\n",
       "    .dataframe tbody tr th {\n",
       "        vertical-align: top;\n",
       "    }\n",
       "\n",
       "    .dataframe thead th {\n",
       "        text-align: right;\n",
       "    }\n",
       "</style>\n",
       "<table border=\"1\" class=\"dataframe\">\n",
       "  <thead>\n",
       "    <tr style=\"text-align: right;\">\n",
       "      <th></th>\n",
       "      <th>beta0_future_val</th>\n",
       "      <th>beta1_future_val</th>\n",
       "      <th>beta2_future_val</th>\n",
       "      <th>lambda_future_val</th>\n",
       "    </tr>\n",
       "  </thead>\n",
       "  <tbody>\n",
       "    <tr>\n",
       "      <th>0</th>\n",
       "      <td>0.050954</td>\n",
       "      <td>0.032897</td>\n",
       "      <td>-0.032895</td>\n",
       "      <td>0.228149</td>\n",
       "    </tr>\n",
       "    <tr>\n",
       "      <th>1</th>\n",
       "      <td>0.023140</td>\n",
       "      <td>0.012103</td>\n",
       "      <td>-0.009651</td>\n",
       "      <td>0.274028</td>\n",
       "    </tr>\n",
       "    <tr>\n",
       "      <th>2</th>\n",
       "      <td>0.057567</td>\n",
       "      <td>-0.025786</td>\n",
       "      <td>-0.038031</td>\n",
       "      <td>0.293598</td>\n",
       "    </tr>\n",
       "    <tr>\n",
       "      <th>3</th>\n",
       "      <td>0.095909</td>\n",
       "      <td>-0.056735</td>\n",
       "      <td>-0.016810</td>\n",
       "      <td>0.394400</td>\n",
       "    </tr>\n",
       "    <tr>\n",
       "      <th>4</th>\n",
       "      <td>0.018940</td>\n",
       "      <td>0.002185</td>\n",
       "      <td>-0.086265</td>\n",
       "      <td>0.336093</td>\n",
       "    </tr>\n",
       "  </tbody>\n",
       "</table>\n",
       "</div>"
      ]
     },
     "execution_count": 3,
     "metadata": {},
     "output_type": "execute_result"
    }
   ],
   "execution_count": 3
  },
  {
   "metadata": {
    "ExecuteTime": {
     "end_time": "2025-10-25T04:25:00.376619Z",
     "start_time": "2025-10-25T04:25:00.357734Z"
    }
   },
   "cell_type": "code",
   "source": [
    "# Create features for the yield curves\n",
    "def nelson_siegel(maturity, beta0, beta1, beta2, lambda_):\n",
    "        return (beta0 +\n",
    "                beta1 * ((1 - np.exp(-lambda_ * maturity)) / (lambda_ * maturity)) +\n",
    "                beta2 * (((1 - np.exp(-lambda_ * maturity)) / (lambda_ * maturity)) - np.exp(-lambda_ * maturity)))\n",
    "\n",
    "\n",
    "def nelson_siegel_params(yields, maturities):\n",
    "    \"\"\"\n",
    "    Fit the Nelson-Siegel model to the yield curve data and return the parameters.\n",
    "    Yields: array-like, bond yields\n",
    "    Maturities: array-like, bond maturities in years\n",
    "    \"\"\"\n",
    "    # Initial guess for the parameters\n",
    "    initial_guess = [0.03, -0.02, 0.02, 0.5]\n",
    "    # Fit the model\n",
    "    params, _ = curve_fit(nelson_siegel, maturities, yields, p0=initial_guess)\n",
    "    return params"
   ],
   "id": "3b88fb995ef8939e",
   "outputs": [],
   "execution_count": 5
  },
  {
   "metadata": {
    "ExecuteTime": {
     "end_time": "2025-10-25T04:32:06.216578Z",
     "start_time": "2025-10-25T04:32:06.195336Z"
    }
   },
   "cell_type": "code",
   "source": [
    "maturieties = [round(1/12, 3), 1/4, 1/2, 1, 2, 3, 5, 7, 10, 20, 30]\n",
    "# yields = bond_yields_train.loc['2015-06-15'].values / 100\n",
    "# ns_params = nelson_siegel_params(yields, maturieties)\n",
    "predicted_params = df_results['prediction'].values[0]\n",
    "actual_params = df_results['actual_value'].values[0]\n",
    "# make the predictions\n",
    "predicted_yields = nelson_siegel(np.array(maturieties), *predicted_params)\n",
    "actual_yields = nelson_siegel(np.array(maturieties), *actual_params)\n"
   ],
   "id": "4a7fa7ea54541cdd",
   "outputs": [
    {
     "ename": "TypeError",
     "evalue": "nelson_siegel() missing 3 required positional arguments: 'beta1', 'beta2', and 'lambda_'",
     "output_type": "error",
     "traceback": [
      "\u001B[0;31m---------------------------------------------------------------------------\u001B[0m",
      "\u001B[0;31mTypeError\u001B[0m                                 Traceback (most recent call last)",
      "Cell \u001B[0;32mIn[9], line 7\u001B[0m\n\u001B[1;32m      5\u001B[0m actual_params \u001B[38;5;241m=\u001B[39m df_results[\u001B[38;5;124m'\u001B[39m\u001B[38;5;124mactual_value\u001B[39m\u001B[38;5;124m'\u001B[39m]\u001B[38;5;241m.\u001B[39mvalues[\u001B[38;5;241m0\u001B[39m]\n\u001B[1;32m      6\u001B[0m \u001B[38;5;66;03m# make the predictions\u001B[39;00m\n\u001B[0;32m----> 7\u001B[0m predicted_yields \u001B[38;5;241m=\u001B[39m \u001B[43mnelson_siegel\u001B[49m\u001B[43m(\u001B[49m\u001B[43mnp\u001B[49m\u001B[38;5;241;43m.\u001B[39;49m\u001B[43marray\u001B[49m\u001B[43m(\u001B[49m\u001B[43mmaturieties\u001B[49m\u001B[43m)\u001B[49m\u001B[43m,\u001B[49m\u001B[43m \u001B[49m\u001B[38;5;241;43m*\u001B[39;49m\u001B[43mpredicted_params\u001B[49m\u001B[43m)\u001B[49m\n\u001B[1;32m      8\u001B[0m actual_yields \u001B[38;5;241m=\u001B[39m nelson_siegel(np\u001B[38;5;241m.\u001B[39marray(maturieties), \u001B[38;5;241m*\u001B[39mactual_params)\n",
      "\u001B[0;31mTypeError\u001B[0m: nelson_siegel() missing 3 required positional arguments: 'beta1', 'beta2', and 'lambda_'"
     ]
    }
   ],
   "execution_count": 9
  },
  {
   "metadata": {
    "ExecuteTime": {
     "end_time": "2025-10-25T04:29:28.026537Z",
     "start_time": "2025-10-25T04:29:28.021372Z"
    }
   },
   "cell_type": "code",
   "source": "predicted_params",
   "id": "ae6dc241b224f102",
   "outputs": [
    {
     "data": {
      "text/plain": [
       "array([array([ 4.33229686e-02, -1.69483191e-05, -1.89284566e-02,  6.83097607e-01])],\n",
       "      dtype=object)"
      ]
     },
     "execution_count": 8,
     "metadata": {},
     "output_type": "execute_result"
    }
   ],
   "execution_count": 8
  },
  {
   "metadata": {},
   "cell_type": "code",
   "outputs": [],
   "execution_count": null,
   "source": "",
   "id": "7c137b2ff85ce380"
  }
 ],
 "metadata": {
  "kernelspec": {
   "display_name": "Python 3",
   "language": "python",
   "name": "python3"
  },
  "language_info": {
   "codemirror_mode": {
    "name": "ipython",
    "version": 2
   },
   "file_extension": ".py",
   "mimetype": "text/x-python",
   "name": "python",
   "nbconvert_exporter": "python",
   "pygments_lexer": "ipython2",
   "version": "2.7.6"
  }
 },
 "nbformat": 4,
 "nbformat_minor": 5
}
